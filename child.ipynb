{
 "cells": [
  {
   "cell_type": "code",
   "execution_count": 1,
   "metadata": {},
   "outputs": [],
   "source": [
    "import tensorflow as tf\n",
    "from tensorflow.keras.preprocessing.image import ImageDataGenerator"
   ]
  },
  {
   "cell_type": "code",
   "execution_count": 12,
   "metadata": {},
   "outputs": [],
   "source": [
    "# Set the path to your training and validation data\n",
    "train_data_dir = r'C:\\Users\\avane\\Downloads\\archive\\train'\n",
    "test_data_dir = r'C:\\Users\\avane\\Downloads\\archive\\test'"
   ]
  },
  {
   "cell_type": "code",
   "execution_count": 14,
   "metadata": {},
   "outputs": [],
   "source": [
    "# Set the image dimensions and batch size\n",
    "img_width, img_height = 100, 100\n",
    "batch_size = 10"
   ]
  },
  {
   "cell_type": "code",
   "execution_count": 22,
   "metadata": {},
   "outputs": [],
   "source": [
    "# Set the number of training and validation samples\n",
    "num_train_samples = 400\n",
    "num_test_samples = 100\n"
   ]
  },
  {
   "cell_type": "code",
   "execution_count": 23,
   "metadata": {},
   "outputs": [],
   "source": [
    "# Define the CNN model architecture\n",
    "model = tf.keras.models.Sequential([\n",
    "    tf.keras.layers.Conv2D(32, (3, 3), activation='relu', input_shape=(img_width, img_height, 3)),\n",
    "    tf.keras.layers.MaxPooling2D(pool_size=(2, 2)),\n",
    "    tf.keras.layers.Conv2D(64, (3, 3), activation='relu'),\n",
    "    tf.keras.layers.MaxPooling2D(pool_size=(2, 2)),\n",
    "    tf.keras.layers.Flatten(),\n",
    "    tf.keras.layers.Dense(64, activation='relu'),\n",
    "    tf.keras.layers.Dropout(0.5),\n",
    "    tf.keras.layers.Dense(1, activation='sigmoid')\n",
    "])"
   ]
  },
  {
   "cell_type": "code",
   "execution_count": 24,
   "metadata": {},
   "outputs": [],
   "source": [
    "# Compile the model\n",
    "model.compile(optimizer='adam', loss='binary_crossentropy', metrics=['accuracy'])"
   ]
  },
  {
   "cell_type": "code",
   "execution_count": 25,
   "metadata": {},
   "outputs": [
    {
     "name": "stdout",
     "output_type": "stream",
     "text": [
      "Found 680 images belonging to 2 classes.\n"
     ]
    }
   ],
   "source": [
    "# Preprocess the images and generate augmented training data\n",
    "train_datagen = ImageDataGenerator(rescale=1.0 / 255, shear_range=0.2, zoom_range=0.2, horizontal_flip=True)\n",
    "train_generator = train_datagen.flow_from_directory(train_data_dir, target_size=(img_width, img_height), batch_size=batch_size, class_mode='binary')"
   ]
  },
  {
   "cell_type": "code",
   "execution_count": 26,
   "metadata": {},
   "outputs": [
    {
     "name": "stdout",
     "output_type": "stream",
     "text": [
      "Found 120 images belonging to 2 classes.\n"
     ]
    }
   ],
   "source": [
    "# Preprocess the test images\n",
    "test_datagen = ImageDataGenerator(rescale=1.0 / 255)\n",
    "test_generator = test_datagen.flow_from_directory(test_data_dir, target_size=(img_width, img_height), batch_size=batch_size, class_mode='binary')"
   ]
  },
  {
   "cell_type": "code",
   "execution_count": 27,
   "metadata": {},
   "outputs": [
    {
     "name": "stdout",
     "output_type": "stream",
     "text": [
      "Epoch 1/10\n",
      "40/40 [==============================] - 4s 77ms/step - loss: 0.9306 - accuracy: 0.4975 - val_loss: 0.6685 - val_accuracy: 0.5500\n",
      "Epoch 2/10\n",
      "40/40 [==============================] - 3s 72ms/step - loss: 0.6906 - accuracy: 0.5400 - val_loss: 0.6615 - val_accuracy: 0.6300\n",
      "Epoch 3/10\n",
      "40/40 [==============================] - 3s 72ms/step - loss: 0.6859 - accuracy: 0.5875 - val_loss: 0.6598 - val_accuracy: 0.7200\n",
      "Epoch 4/10\n",
      "40/40 [==============================] - 3s 73ms/step - loss: 0.6692 - accuracy: 0.5525 - val_loss: 0.6549 - val_accuracy: 0.6100\n",
      "Epoch 5/10\n",
      "40/40 [==============================] - 3s 73ms/step - loss: 0.6764 - accuracy: 0.5400 - val_loss: 0.6138 - val_accuracy: 0.6300\n",
      "Epoch 6/10\n",
      "40/40 [==============================] - 3s 73ms/step - loss: 0.6567 - accuracy: 0.5925 - val_loss: 0.6174 - val_accuracy: 0.6100\n",
      "Epoch 7/10\n",
      "40/40 [==============================] - 3s 72ms/step - loss: 0.6753 - accuracy: 0.5525 - val_loss: 0.6485 - val_accuracy: 0.6400\n",
      "Epoch 8/10\n",
      "40/40 [==============================] - 3s 73ms/step - loss: 0.6659 - accuracy: 0.5850 - val_loss: 0.6295 - val_accuracy: 0.5900\n",
      "Epoch 9/10\n",
      "40/40 [==============================] - 3s 72ms/step - loss: 0.6424 - accuracy: 0.6175 - val_loss: 0.6397 - val_accuracy: 0.6100\n",
      "Epoch 10/10\n",
      "40/40 [==============================] - 3s 79ms/step - loss: 0.6743 - accuracy: 0.5600 - val_loss: 0.6632 - val_accuracy: 0.5600\n"
     ]
    },
    {
     "data": {
      "text/plain": [
       "<keras.callbacks.History at 0x2d1515ba110>"
      ]
     },
     "execution_count": 27,
     "metadata": {},
     "output_type": "execute_result"
    }
   ],
   "source": [
    "\n",
    "# Train the model\n",
    "model.fit(train_generator, steps_per_epoch=num_train_samples // batch_size, epochs=10, validation_data=test_generator, validation_steps=num_test_samples // batch_size)"
   ]
  },
  {
   "cell_type": "code",
   "execution_count": null,
   "metadata": {},
   "outputs": [],
   "source": [
    "# Save the trained model\n",
    "model.save('child_detection_model.h5')"
   ]
  }
 ],
 "metadata": {
  "kernelspec": {
   "display_name": "base",
   "language": "python",
   "name": "python3"
  },
  "language_info": {
   "codemirror_mode": {
    "name": "ipython",
    "version": 3
   },
   "file_extension": ".py",
   "mimetype": "text/x-python",
   "name": "python",
   "nbconvert_exporter": "python",
   "pygments_lexer": "ipython3",
   "version": "3.10.9"
  },
  "orig_nbformat": 4
 },
 "nbformat": 4,
 "nbformat_minor": 2
}
